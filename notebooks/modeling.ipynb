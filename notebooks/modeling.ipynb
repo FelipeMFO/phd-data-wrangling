{
 "cells": [
  {
   "cell_type": "markdown",
   "id": "ef013e92-57ad-45a8-bedc-f8c94cb4c129",
   "metadata": {},
   "source": [
    "**Analysis owner**: Felipe Matheus <br>\n",
    "**Date**: 12/10/2021 <br>\n",
    "**Related Links**:\n",
    "\n",
    "The objective of this notebook is to download porcesssed data from eda notebook and do a simple classification (identification) model."
   ]
  },
  {
   "cell_type": "markdown",
   "id": "1cd91938-3dfa-4dcb-a78d-f026411b13fe",
   "metadata": {},
   "source": [
    "# Index\n",
    "\n",
    "1. Setup\n",
    "2. Loading data\n",
    "3. Launching H2O AutoML\n",
    "4. Verifying results\n",
    "5. Conclusions"
   ]
  },
  {
   "cell_type": "markdown",
   "id": "63310b71-d965-48b6-b8f0-b43732f24e64",
   "metadata": {},
   "source": [
    "# 1. Setup"
   ]
  },
  {
   "cell_type": "code",
   "execution_count": 1,
   "id": "da52228c-d5e6-489b-909a-efa1c6da2152",
   "metadata": {
    "tags": []
   },
   "outputs": [],
   "source": [
    "import os\n",
    "import h2o\n",
    "import sys\n",
    "import json\n",
    "import pickle\n",
    "import pandas as pd\n",
    "import numpy as np\n",
    "\n",
    "%load_ext autoreload\n",
    "%autoreload 2"
   ]
  },
  {
   "cell_type": "code",
   "execution_count": 5,
   "id": "ff315664-a69c-401f-88fa-db3f94656ad5",
   "metadata": {},
   "outputs": [
    {
     "name": "stdout",
     "output_type": "stream",
     "text": [
      "Checking whether there is an H2O instance running at http://localhost:54321 ..... not found.\n",
      "Attempting to start a local H2O server...\n",
      "  Java Version: openjdk version \"11.0.11\" 2021-04-20; OpenJDK Runtime Environment (build 11.0.11+9-Ubuntu-0ubuntu2.20.04); OpenJDK 64-Bit Server VM (build 11.0.11+9-Ubuntu-0ubuntu2.20.04, mixed mode, sharing)\n",
      "  Starting server from /local/home/ff268477/projects/phd-data-wrangling/.eda-jeff-data/lib/python3.8/site-packages/h2o/backend/bin/h2o.jar\n",
      "  Ice root: /tmp/tmpar9zraf_\n",
      "  JVM stdout: /tmp/tmpar9zraf_/h2o_ff268477_started_from_python.out\n",
      "  JVM stderr: /tmp/tmpar9zraf_/h2o_ff268477_started_from_python.err\n",
      "  Server is running at http://127.0.0.1:54321\n",
      "Connecting to H2O server at http://127.0.0.1:54321 ... successful.\n"
     ]
    },
    {
     "data": {
      "text/html": [
       "<div style=\"overflow:auto\"><table style=\"width:50%\"><tr><td>H2O_cluster_uptime:</td>\n",
       "<td>01 secs</td></tr>\n",
       "<tr><td>H2O_cluster_timezone:</td>\n",
       "<td>Europe/Paris</td></tr>\n",
       "<tr><td>H2O_data_parsing_timezone:</td>\n",
       "<td>UTC</td></tr>\n",
       "<tr><td>H2O_cluster_version:</td>\n",
       "<td>3.34.0.3</td></tr>\n",
       "<tr><td>H2O_cluster_version_age:</td>\n",
       "<td>15 days </td></tr>\n",
       "<tr><td>H2O_cluster_name:</td>\n",
       "<td>H2O_from_python_ff268477_abexp6</td></tr>\n",
       "<tr><td>H2O_cluster_total_nodes:</td>\n",
       "<td>1</td></tr>\n",
       "<tr><td>H2O_cluster_free_memory:</td>\n",
       "<td>3.820 Gb</td></tr>\n",
       "<tr><td>H2O_cluster_total_cores:</td>\n",
       "<td>12</td></tr>\n",
       "<tr><td>H2O_cluster_allowed_cores:</td>\n",
       "<td>12</td></tr>\n",
       "<tr><td>H2O_cluster_status:</td>\n",
       "<td>locked, healthy</td></tr>\n",
       "<tr><td>H2O_connection_url:</td>\n",
       "<td>http://127.0.0.1:54321</td></tr>\n",
       "<tr><td>H2O_connection_proxy:</td>\n",
       "<td>{\"http\": null, \"https\": null}</td></tr>\n",
       "<tr><td>H2O_internal_security:</td>\n",
       "<td>False</td></tr>\n",
       "<tr><td>H2O_API_Extensions:</td>\n",
       "<td>Amazon S3, XGBoost, Algos, AutoML, Core V3, TargetEncoder, Core V4</td></tr>\n",
       "<tr><td>Python_version:</td>\n",
       "<td>3.8.10 final</td></tr></table></div>"
      ],
      "text/plain": [
       "--------------------------  ------------------------------------------------------------------\n",
       "H2O_cluster_uptime:         01 secs\n",
       "H2O_cluster_timezone:       Europe/Paris\n",
       "H2O_data_parsing_timezone:  UTC\n",
       "H2O_cluster_version:        3.34.0.3\n",
       "H2O_cluster_version_age:    15 days\n",
       "H2O_cluster_name:           H2O_from_python_ff268477_abexp6\n",
       "H2O_cluster_total_nodes:    1\n",
       "H2O_cluster_free_memory:    3.820 Gb\n",
       "H2O_cluster_total_cores:    12\n",
       "H2O_cluster_allowed_cores:  12\n",
       "H2O_cluster_status:         locked, healthy\n",
       "H2O_connection_url:         http://127.0.0.1:54321\n",
       "H2O_connection_proxy:       {\"http\": null, \"https\": null}\n",
       "H2O_internal_security:      False\n",
       "H2O_API_Extensions:         Amazon S3, XGBoost, Algos, AutoML, Core V3, TargetEncoder, Core V4\n",
       "Python_version:             3.8.10 final\n",
       "--------------------------  ------------------------------------------------------------------"
      ]
     },
     "metadata": {},
     "output_type": "display_data"
    }
   ],
   "source": [
    "h2o.init()"
   ]
  },
  {
   "cell_type": "code",
   "execution_count": 6,
   "id": "4890e386-01a7-46e6-95e9-fad1ac5c5897",
   "metadata": {},
   "outputs": [],
   "source": [
    "module_path = os.path.abspath(os.path.join('..'))\n",
    "if module_path not in sys.path:\n",
    "    sys.path.append(module_path)\n",
    "\n",
    "from src.feature_engineering.FeatureEngineering import FeatureEngineering\n",
    "from src.modeling.Modeling import Modeling"
   ]
  },
  {
   "cell_type": "markdown",
   "id": "f8fd21e9-2533-4dda-a2ad-457b2a39cfed",
   "metadata": {
    "tags": []
   },
   "source": [
    "Variables"
   ]
  },
  {
   "cell_type": "code",
   "execution_count": 8,
   "id": "10e14d4c-14a1-49c6-8d74-d5e7653186aa",
   "metadata": {},
   "outputs": [],
   "source": [
    "pd.options.display.max_rows = 6\n",
    "with open('../config/variables.json') as json_file:\n",
    "    var = json.load(json_file)\n",
    "STRUCTURED_DATA = var.get('STRUCTURED_DATA')"
   ]
  },
  {
   "cell_type": "markdown",
   "id": "082cc76d-48b5-4d52-b186-006f52cb4db3",
   "metadata": {},
   "source": [
    "Objects"
   ]
  },
  {
   "cell_type": "code",
   "execution_count": 50,
   "id": "f29b809b-bd94-4d67-add6-973bf5eed44a",
   "metadata": {},
   "outputs": [],
   "source": [
    "feng = FeatureEngineering()\n",
    "modeling = Modeling()"
   ]
  },
  {
   "cell_type": "markdown",
   "id": "7d872e58-6e10-4019-b7ab-62c0bd3479a7",
   "metadata": {},
   "source": [
    "# 2. Loading Data"
   ]
  },
  {
   "cell_type": "code",
   "execution_count": 34,
   "id": "b87ff9a1-909a-4e09-9d23-7d8d6f7485b4",
   "metadata": {},
   "outputs": [],
   "source": [
    "df = pd.read_pickle(STRUCTURED_DATA + \"dataframe_21_1200.pkl\")"
   ]
  },
  {
   "cell_type": "markdown",
   "id": "9793f5da-aca7-45db-9c88-4d7430ba213b",
   "metadata": {},
   "source": [
    "# 3. Launching H2O AutoML"
   ]
  },
  {
   "cell_type": "code",
   "execution_count": 37,
   "id": "9a2f3774-72f2-4598-b35b-85bd6194a010",
   "metadata": {},
   "outputs": [],
   "source": [
    "feng.label_dataframe(df, 'bd')"
   ]
  },
  {
   "cell_type": "code",
   "execution_count": 41,
   "id": "c1f0dbcd-f12f-42aa-821f-9b798cbdda43",
   "metadata": {},
   "outputs": [],
   "source": [
    "df = df.drop(columns = [\"-1.0\", \"-2.0\"]).fillna(0)"
   ]
  },
  {
   "cell_type": "code",
   "execution_count": 67,
   "id": "63f403cc-f915-4a0d-9af4-7b4cd207cda6",
   "metadata": {},
   "outputs": [
    {
     "name": "stdout",
     "output_type": "stream",
     "text": [
      "Parse progress: |████████████████████████████████████████████████████████████████| (done) 100%\n"
     ]
    }
   ],
   "source": [
    "split_dict = modeling.spliting(df=df, split_ratio= 0.8, target_variable=\"has_bd\")"
   ]
  },
  {
   "cell_type": "code",
   "execution_count": 66,
   "id": "cf561228-c940-4327-9c92-6e8ceb60617a",
   "metadata": {},
   "outputs": [
    {
     "ename": "H2OTypeError",
     "evalue": "'training_frame' must be a valid H2OFrame!",
     "output_type": "error",
     "traceback": [
      "\u001b[0;31m---------------------------------------------------------------------------\u001b[0m",
      "\u001b[0;31mH2OTypeError\u001b[0m                              Traceback (most recent call last)",
      "\u001b[0;32m/tmp/ipykernel_56068/1619170991.py\u001b[0m in \u001b[0;36m<module>\u001b[0;34m\u001b[0m\n\u001b[0;32m----> 1\u001b[0;31m aml = modeling.training(\n\u001b[0m\u001b[1;32m      2\u001b[0m     \u001b[0mmodel_name\u001b[0m\u001b[0;34m=\u001b[0m \u001b[0;34m\"bd_identification_model\"\u001b[0m\u001b[0;34m,\u001b[0m\u001b[0;34m\u001b[0m\u001b[0;34m\u001b[0m\u001b[0m\n\u001b[1;32m      3\u001b[0m     \u001b[0mtarget_variable\u001b[0m\u001b[0;34m=\u001b[0m \u001b[0;34m\"has_bd\"\u001b[0m\u001b[0;34m,\u001b[0m\u001b[0;34m\u001b[0m\u001b[0;34m\u001b[0m\u001b[0m\n\u001b[1;32m      4\u001b[0m     \u001b[0mfeatures\u001b[0m\u001b[0;34m=\u001b[0m\u001b[0mlist\u001b[0m\u001b[0;34m(\u001b[0m\u001b[0msplit_dict\u001b[0m\u001b[0;34m[\u001b[0m\u001b[0;34m\"X\"\u001b[0m\u001b[0;34m]\u001b[0m\u001b[0;34m.\u001b[0m\u001b[0mcolumns\u001b[0m\u001b[0;34m)\u001b[0m\u001b[0;34m,\u001b[0m\u001b[0;34m\u001b[0m\u001b[0;34m\u001b[0m\u001b[0m\n\u001b[1;32m      5\u001b[0m     \u001b[0mtrain\u001b[0m\u001b[0;34m=\u001b[0m \u001b[0msplit_dict\u001b[0m\u001b[0;34m[\u001b[0m\u001b[0;34m\"X\"\u001b[0m\u001b[0;34m]\u001b[0m\u001b[0;34m,\u001b[0m\u001b[0;34m\u001b[0m\u001b[0;34m\u001b[0m\u001b[0m\n",
      "\u001b[0;32m~/projects/phd-data-wrangling/src/modeling/Modeling.py\u001b[0m in \u001b[0;36mtraining\u001b[0;34m(self, model_name, target_variable, features, train, test, maxmodels, seed)\u001b[0m\n\u001b[1;32m     67\u001b[0m         aml = H2OAutoML(project_name=model_name,\n\u001b[1;32m     68\u001b[0m                         max_models=maxmodels, seed=seed)\n\u001b[0;32m---> 69\u001b[0;31m         aml.train(x=features,\n\u001b[0m\u001b[1;32m     70\u001b[0m                   \u001b[0my\u001b[0m\u001b[0;34m=\u001b[0m\u001b[0mtarget_variable\u001b[0m\u001b[0;34m,\u001b[0m\u001b[0;34m\u001b[0m\u001b[0;34m\u001b[0m\u001b[0m\n\u001b[1;32m     71\u001b[0m                   \u001b[0mtraining_frame\u001b[0m\u001b[0;34m=\u001b[0m\u001b[0mtrain\u001b[0m\u001b[0;34m,\u001b[0m\u001b[0;34m\u001b[0m\u001b[0;34m\u001b[0m\u001b[0m\n",
      "\u001b[0;32m~/projects/phd-data-wrangling/.eda-jeff-data/lib/python3.8/site-packages/h2o/automl/_estimator.py\u001b[0m in \u001b[0;36mtrain\u001b[0;34m(self, x, y, training_frame, fold_column, weights_column, validation_frame, leaderboard_frame, blending_frame)\u001b[0m\n\u001b[1;32m    504\u001b[0m         \"\"\"\n\u001b[1;32m    505\u001b[0m         \u001b[0;31m# Minimal required arguments are training_frame and y (response)\u001b[0m\u001b[0;34m\u001b[0m\u001b[0;34m\u001b[0m\u001b[0;34m\u001b[0m\u001b[0m\n\u001b[0;32m--> 506\u001b[0;31m         \u001b[0mself\u001b[0m\u001b[0;34m.\u001b[0m\u001b[0mtraining_frame\u001b[0m \u001b[0;34m=\u001b[0m \u001b[0mtraining_frame\u001b[0m\u001b[0;34m\u001b[0m\u001b[0;34m\u001b[0m\u001b[0m\n\u001b[0m\u001b[1;32m    507\u001b[0m \u001b[0;34m\u001b[0m\u001b[0m\n\u001b[1;32m    508\u001b[0m         \u001b[0mncols\u001b[0m \u001b[0;34m=\u001b[0m \u001b[0mself\u001b[0m\u001b[0;34m.\u001b[0m\u001b[0mtraining_frame\u001b[0m\u001b[0;34m.\u001b[0m\u001b[0mncols\u001b[0m\u001b[0;34m\u001b[0m\u001b[0;34m\u001b[0m\u001b[0m\n",
      "\u001b[0;32m~/projects/phd-data-wrangling/.eda-jeff-data/lib/python3.8/site-packages/h2o/automl/_estimator.py\u001b[0m in \u001b[0;36m_fset\u001b[0;34m(self, value)\u001b[0m\n\u001b[1;32m     51\u001b[0m         \u001b[0minput_val\u001b[0m \u001b[0;34m=\u001b[0m \u001b[0mvalue\u001b[0m\u001b[0;34m\u001b[0m\u001b[0;34m\u001b[0m\u001b[0m\n\u001b[1;32m     52\u001b[0m         \u001b[0;32mif\u001b[0m \u001b[0mvalidate_fn\u001b[0m\u001b[0;34m:\u001b[0m\u001b[0;34m\u001b[0m\u001b[0;34m\u001b[0m\u001b[0m\n\u001b[0;32m---> 53\u001b[0;31m             \u001b[0mvalue\u001b[0m \u001b[0;34m=\u001b[0m \u001b[0mvalidate_fn\u001b[0m\u001b[0;34m(\u001b[0m\u001b[0mself\u001b[0m\u001b[0;34m,\u001b[0m \u001b[0mvalue\u001b[0m\u001b[0;34m)\u001b[0m\u001b[0;34m\u001b[0m\u001b[0;34m\u001b[0m\u001b[0m\n\u001b[0m\u001b[1;32m     54\u001b[0m         \u001b[0m_input\u001b[0m \u001b[0;34m=\u001b[0m \u001b[0mgetattr\u001b[0m\u001b[0;34m(\u001b[0m\u001b[0mself\u001b[0m\u001b[0;34m,\u001b[0m \u001b[0mattr_name\u001b[0m\u001b[0;34m(\u001b[0m\u001b[0mself\u001b[0m\u001b[0;34m,\u001b[0m \u001b[0;34m'__input'\u001b[0m\u001b[0;34m)\u001b[0m\u001b[0;34m)\u001b[0m\u001b[0;34m\u001b[0m\u001b[0;34m\u001b[0m\u001b[0m\n\u001b[1;32m     55\u001b[0m         \u001b[0m_input\u001b[0m\u001b[0;34m[\u001b[0m\u001b[0mname\u001b[0m\u001b[0;34m]\u001b[0m \u001b[0;34m=\u001b[0m \u001b[0minput_val\u001b[0m \u001b[0;32mif\u001b[0m \u001b[0mset_input\u001b[0m \u001b[0;32melse\u001b[0m \u001b[0mvalue\u001b[0m\u001b[0;34m\u001b[0m\u001b[0;34m\u001b[0m\u001b[0m\n",
      "\u001b[0;32m~/projects/phd-data-wrangling/.eda-jeff-data/lib/python3.8/site-packages/h2o/automl/_estimator.py\u001b[0m in \u001b[0;36m__validate_frame\u001b[0;34m(self, fr, name, required)\u001b[0m\n\u001b[1;32m    379\u001b[0m \u001b[0;34m\u001b[0m\u001b[0m\n\u001b[1;32m    380\u001b[0m     \u001b[0;32mdef\u001b[0m \u001b[0m__validate_frame\u001b[0m\u001b[0;34m(\u001b[0m\u001b[0mself\u001b[0m\u001b[0;34m,\u001b[0m \u001b[0mfr\u001b[0m\u001b[0;34m,\u001b[0m \u001b[0mname\u001b[0m\u001b[0;34m=\u001b[0m\u001b[0;32mNone\u001b[0m\u001b[0;34m,\u001b[0m \u001b[0mrequired\u001b[0m\u001b[0;34m=\u001b[0m\u001b[0;32mFalse\u001b[0m\u001b[0;34m)\u001b[0m\u001b[0;34m:\u001b[0m\u001b[0;34m\u001b[0m\u001b[0;34m\u001b[0m\u001b[0m\n\u001b[0;32m--> 381\u001b[0;31m         \u001b[0;32mreturn\u001b[0m \u001b[0mH2OFrame\u001b[0m\u001b[0;34m.\u001b[0m\u001b[0m_validate\u001b[0m\u001b[0;34m(\u001b[0m\u001b[0mfr\u001b[0m\u001b[0;34m,\u001b[0m \u001b[0mname\u001b[0m\u001b[0;34m,\u001b[0m \u001b[0mrequired\u001b[0m\u001b[0;34m=\u001b[0m\u001b[0mrequired\u001b[0m\u001b[0;34m)\u001b[0m\u001b[0;34m\u001b[0m\u001b[0;34m\u001b[0m\u001b[0m\n\u001b[0m\u001b[1;32m    382\u001b[0m \u001b[0;34m\u001b[0m\u001b[0m\n\u001b[1;32m    383\u001b[0m     \u001b[0m_extract_params_doc\u001b[0m\u001b[0;34m(\u001b[0m\u001b[0mgetdoc\u001b[0m\u001b[0;34m(\u001b[0m\u001b[0m__init__\u001b[0m\u001b[0;34m)\u001b[0m\u001b[0;34m)\u001b[0m\u001b[0;34m\u001b[0m\u001b[0;34m\u001b[0m\u001b[0m\n",
      "\u001b[0;32m~/projects/phd-data-wrangling/.eda-jeff-data/lib/python3.8/site-packages/h2o/frame.py\u001b[0m in \u001b[0;36m_validate\u001b[0;34m(param, name, required, message)\u001b[0m\n\u001b[1;32m    231\u001b[0m                 \u001b[0;32mreturn\u001b[0m\u001b[0;34m\u001b[0m\u001b[0;34m\u001b[0m\u001b[0m\n\u001b[1;32m    232\u001b[0m         \u001b[0;32melse\u001b[0m\u001b[0;34m:\u001b[0m\u001b[0;34m\u001b[0m\u001b[0;34m\u001b[0m\u001b[0m\n\u001b[0;32m--> 233\u001b[0;31m             \u001b[0massert_is_type\u001b[0m\u001b[0;34m(\u001b[0m\u001b[0mparam\u001b[0m\u001b[0;34m,\u001b[0m \u001b[0mstr\u001b[0m\u001b[0;34m,\u001b[0m \u001b[0mH2OFrame\u001b[0m\u001b[0;34m,\u001b[0m \u001b[0mmessage\u001b[0m\u001b[0;34m=\u001b[0m\u001b[0mmessage\u001b[0m\u001b[0;34m)\u001b[0m\u001b[0;34m\u001b[0m\u001b[0;34m\u001b[0m\u001b[0m\n\u001b[0m\u001b[1;32m    234\u001b[0m             \u001b[0;32mif\u001b[0m \u001b[0mis_type\u001b[0m\u001b[0;34m(\u001b[0m\u001b[0mparam\u001b[0m\u001b[0;34m,\u001b[0m \u001b[0mstr\u001b[0m\u001b[0;34m)\u001b[0m\u001b[0;34m:\u001b[0m\u001b[0;34m\u001b[0m\u001b[0;34m\u001b[0m\u001b[0m\n\u001b[1;32m    235\u001b[0m                 \u001b[0mfr\u001b[0m \u001b[0;34m=\u001b[0m \u001b[0mh2o\u001b[0m\u001b[0;34m.\u001b[0m\u001b[0mget_frame\u001b[0m\u001b[0;34m(\u001b[0m\u001b[0mparam\u001b[0m\u001b[0;34m)\u001b[0m\u001b[0;34m\u001b[0m\u001b[0;34m\u001b[0m\u001b[0m\n",
      "\u001b[0;32m~/projects/phd-data-wrangling/.eda-jeff-data/lib/python3.8/site-packages/h2o/utils/typechecks.py\u001b[0m in \u001b[0;36massert_is_type\u001b[0;34m(var, *types, **kwargs)\u001b[0m\n\u001b[1;32m    453\u001b[0m     \u001b[0metn\u001b[0m \u001b[0;34m=\u001b[0m \u001b[0m_get_type_name\u001b[0m\u001b[0;34m(\u001b[0m\u001b[0mexpected_type\u001b[0m\u001b[0;34m,\u001b[0m \u001b[0mdump\u001b[0m\u001b[0;34m=\u001b[0m\u001b[0;34m\", \"\u001b[0m\u001b[0;34m.\u001b[0m\u001b[0mjoin\u001b[0m\u001b[0;34m(\u001b[0m\u001b[0margs\u001b[0m\u001b[0;34m[\u001b[0m\u001b[0;36m1\u001b[0m\u001b[0;34m:\u001b[0m\u001b[0;34m]\u001b[0m\u001b[0;34m)\u001b[0m\u001b[0;34m)\u001b[0m\u001b[0;34m\u001b[0m\u001b[0;34m\u001b[0m\u001b[0m\n\u001b[1;32m    454\u001b[0m     \u001b[0mvtn\u001b[0m \u001b[0;34m=\u001b[0m \u001b[0m_get_type_name\u001b[0m\u001b[0;34m(\u001b[0m\u001b[0mtype\u001b[0m\u001b[0;34m(\u001b[0m\u001b[0mvar\u001b[0m\u001b[0;34m)\u001b[0m\u001b[0;34m)\u001b[0m\u001b[0;34m\u001b[0m\u001b[0;34m\u001b[0m\u001b[0m\n\u001b[0;32m--> 455\u001b[0;31m     raise H2OTypeError(var_name=vname, var_value=var, var_type_name=vtn, exp_type_name=etn, message=message,\n\u001b[0m\u001b[1;32m    456\u001b[0m                        skip_frames=skip_frames)\n\u001b[1;32m    457\u001b[0m \u001b[0;34m\u001b[0m\u001b[0m\n",
      "\u001b[0;31mH2OTypeError\u001b[0m: 'training_frame' must be a valid H2OFrame!"
     ]
    }
   ],
   "source": [
    "aml = modeling.training(\n",
    "    model_name= \"bd_identification_model\",\n",
    "    target_variable= \"has_bd\",\n",
    "    features=list(split_dict[\"X\"].columns),\n",
    "    train= split_dict[\"X\"],\n",
    "    test= split_dict[\"test\"],\n",
    "    maxmodels = 20,\n",
    "    seed = 1\n",
    ")"
   ]
  },
  {
   "cell_type": "code",
   "execution_count": 42,
   "id": "06d97466-c45a-4b39-b962-bb1265abadb1",
   "metadata": {},
   "outputs": [
    {
     "data": {
      "text/html": [
       "<div>\n",
       "<style scoped>\n",
       "    .dataframe tbody tr th:only-of-type {\n",
       "        vertical-align: middle;\n",
       "    }\n",
       "\n",
       "    .dataframe tbody tr th {\n",
       "        vertical-align: top;\n",
       "    }\n",
       "\n",
       "    .dataframe thead th {\n",
       "        text-align: right;\n",
       "    }\n",
       "</style>\n",
       "<table border=\"1\" class=\"dataframe\">\n",
       "  <thead>\n",
       "    <tr style=\"text-align: right;\">\n",
       "      <th></th>\n",
       "      <th>1.0</th>\n",
       "      <th>10.0</th>\n",
       "      <th>100.0</th>\n",
       "      <th>101.0</th>\n",
       "      <th>102.0</th>\n",
       "      <th>103.0</th>\n",
       "      <th>104.0</th>\n",
       "      <th>105.0</th>\n",
       "      <th>106.0</th>\n",
       "      <th>107.0</th>\n",
       "      <th>...</th>\n",
       "      <th>889.0</th>\n",
       "      <th>899.0</th>\n",
       "      <th>990.0</th>\n",
       "      <th>875.0</th>\n",
       "      <th>944.0</th>\n",
       "      <th>945.0</th>\n",
       "      <th>967.0</th>\n",
       "      <th>-0.0</th>\n",
       "      <th>992.0</th>\n",
       "      <th>has_bd</th>\n",
       "    </tr>\n",
       "  </thead>\n",
       "  <tbody>\n",
       "    <tr>\n",
       "      <th>eu_bd_0</th>\n",
       "      <td>0.000030</td>\n",
       "      <td>0.009258</td>\n",
       "      <td>0.003755</td>\n",
       "      <td>0.003283</td>\n",
       "      <td>0.003688</td>\n",
       "      <td>0.003548</td>\n",
       "      <td>0.003445</td>\n",
       "      <td>0.003445</td>\n",
       "      <td>0.003541</td>\n",
       "      <td>0.003799</td>\n",
       "      <td>...</td>\n",
       "      <td>0.00000</td>\n",
       "      <td>0.000000</td>\n",
       "      <td>0.000000</td>\n",
       "      <td>0.0</td>\n",
       "      <td>0.0</td>\n",
       "      <td>0.0</td>\n",
       "      <td>0.0</td>\n",
       "      <td>0.0</td>\n",
       "      <td>0.0</td>\n",
       "      <td>True</td>\n",
       "    </tr>\n",
       "    <tr>\n",
       "      <th>eu_bd_1</th>\n",
       "      <td>0.000044</td>\n",
       "      <td>0.009922</td>\n",
       "      <td>0.003445</td>\n",
       "      <td>0.003703</td>\n",
       "      <td>0.003305</td>\n",
       "      <td>0.003681</td>\n",
       "      <td>0.003578</td>\n",
       "      <td>0.003467</td>\n",
       "      <td>0.003497</td>\n",
       "      <td>0.003740</td>\n",
       "      <td>...</td>\n",
       "      <td>0.00000</td>\n",
       "      <td>0.000000</td>\n",
       "      <td>0.000000</td>\n",
       "      <td>0.0</td>\n",
       "      <td>0.0</td>\n",
       "      <td>0.0</td>\n",
       "      <td>0.0</td>\n",
       "      <td>0.0</td>\n",
       "      <td>0.0</td>\n",
       "      <td>True</td>\n",
       "    </tr>\n",
       "    <tr>\n",
       "      <th>eu_bd_2</th>\n",
       "      <td>0.000059</td>\n",
       "      <td>0.009604</td>\n",
       "      <td>0.003548</td>\n",
       "      <td>0.003482</td>\n",
       "      <td>0.003489</td>\n",
       "      <td>0.003290</td>\n",
       "      <td>0.003460</td>\n",
       "      <td>0.003585</td>\n",
       "      <td>0.003076</td>\n",
       "      <td>0.003445</td>\n",
       "      <td>...</td>\n",
       "      <td>0.00003</td>\n",
       "      <td>0.000007</td>\n",
       "      <td>0.000007</td>\n",
       "      <td>0.0</td>\n",
       "      <td>0.0</td>\n",
       "      <td>0.0</td>\n",
       "      <td>0.0</td>\n",
       "      <td>0.0</td>\n",
       "      <td>0.0</td>\n",
       "      <td>True</td>\n",
       "    </tr>\n",
       "    <tr>\n",
       "      <th>...</th>\n",
       "      <td>...</td>\n",
       "      <td>...</td>\n",
       "      <td>...</td>\n",
       "      <td>...</td>\n",
       "      <td>...</td>\n",
       "      <td>...</td>\n",
       "      <td>...</td>\n",
       "      <td>...</td>\n",
       "      <td>...</td>\n",
       "      <td>...</td>\n",
       "      <td>...</td>\n",
       "      <td>...</td>\n",
       "      <td>...</td>\n",
       "      <td>...</td>\n",
       "      <td>...</td>\n",
       "      <td>...</td>\n",
       "      <td>...</td>\n",
       "      <td>...</td>\n",
       "      <td>...</td>\n",
       "      <td>...</td>\n",
       "      <td>...</td>\n",
       "    </tr>\n",
       "    <tr>\n",
       "      <th>ba_co_1197</th>\n",
       "      <td>0.000000</td>\n",
       "      <td>0.008867</td>\n",
       "      <td>0.001977</td>\n",
       "      <td>0.001837</td>\n",
       "      <td>0.001571</td>\n",
       "      <td>0.001778</td>\n",
       "      <td>0.001734</td>\n",
       "      <td>0.001497</td>\n",
       "      <td>0.001571</td>\n",
       "      <td>0.001999</td>\n",
       "      <td>...</td>\n",
       "      <td>0.00000</td>\n",
       "      <td>0.000000</td>\n",
       "      <td>0.000000</td>\n",
       "      <td>0.0</td>\n",
       "      <td>0.0</td>\n",
       "      <td>0.0</td>\n",
       "      <td>0.0</td>\n",
       "      <td>0.0</td>\n",
       "      <td>0.0</td>\n",
       "      <td>False</td>\n",
       "    </tr>\n",
       "    <tr>\n",
       "      <th>ba_co_1198</th>\n",
       "      <td>0.000000</td>\n",
       "      <td>0.008579</td>\n",
       "      <td>0.001992</td>\n",
       "      <td>0.001586</td>\n",
       "      <td>0.001483</td>\n",
       "      <td>0.001770</td>\n",
       "      <td>0.001468</td>\n",
       "      <td>0.001608</td>\n",
       "      <td>0.001748</td>\n",
       "      <td>0.001866</td>\n",
       "      <td>...</td>\n",
       "      <td>0.00000</td>\n",
       "      <td>0.000000</td>\n",
       "      <td>0.000000</td>\n",
       "      <td>0.0</td>\n",
       "      <td>0.0</td>\n",
       "      <td>0.0</td>\n",
       "      <td>0.0</td>\n",
       "      <td>0.0</td>\n",
       "      <td>0.0</td>\n",
       "      <td>False</td>\n",
       "    </tr>\n",
       "    <tr>\n",
       "      <th>ba_co_1199</th>\n",
       "      <td>0.000000</td>\n",
       "      <td>0.008439</td>\n",
       "      <td>0.001815</td>\n",
       "      <td>0.001556</td>\n",
       "      <td>0.001711</td>\n",
       "      <td>0.001497</td>\n",
       "      <td>0.001520</td>\n",
       "      <td>0.001549</td>\n",
       "      <td>0.001903</td>\n",
       "      <td>0.001719</td>\n",
       "      <td>...</td>\n",
       "      <td>0.00000</td>\n",
       "      <td>0.000000</td>\n",
       "      <td>0.000000</td>\n",
       "      <td>0.0</td>\n",
       "      <td>0.0</td>\n",
       "      <td>0.0</td>\n",
       "      <td>0.0</td>\n",
       "      <td>0.0</td>\n",
       "      <td>0.0</td>\n",
       "      <td>False</td>\n",
       "    </tr>\n",
       "  </tbody>\n",
       "</table>\n",
       "<p>25200 rows × 955 columns</p>\n",
       "</div>"
      ],
      "text/plain": [
       "                 1.0      10.0     100.0     101.0     102.0     103.0  \\\n",
       "eu_bd_0     0.000030  0.009258  0.003755  0.003283  0.003688  0.003548   \n",
       "eu_bd_1     0.000044  0.009922  0.003445  0.003703  0.003305  0.003681   \n",
       "eu_bd_2     0.000059  0.009604  0.003548  0.003482  0.003489  0.003290   \n",
       "...              ...       ...       ...       ...       ...       ...   \n",
       "ba_co_1197  0.000000  0.008867  0.001977  0.001837  0.001571  0.001778   \n",
       "ba_co_1198  0.000000  0.008579  0.001992  0.001586  0.001483  0.001770   \n",
       "ba_co_1199  0.000000  0.008439  0.001815  0.001556  0.001711  0.001497   \n",
       "\n",
       "               104.0     105.0     106.0     107.0  ...    889.0     899.0  \\\n",
       "eu_bd_0     0.003445  0.003445  0.003541  0.003799  ...  0.00000  0.000000   \n",
       "eu_bd_1     0.003578  0.003467  0.003497  0.003740  ...  0.00000  0.000000   \n",
       "eu_bd_2     0.003460  0.003585  0.003076  0.003445  ...  0.00003  0.000007   \n",
       "...              ...       ...       ...       ...  ...      ...       ...   \n",
       "ba_co_1197  0.001734  0.001497  0.001571  0.001999  ...  0.00000  0.000000   \n",
       "ba_co_1198  0.001468  0.001608  0.001748  0.001866  ...  0.00000  0.000000   \n",
       "ba_co_1199  0.001520  0.001549  0.001903  0.001719  ...  0.00000  0.000000   \n",
       "\n",
       "               990.0  875.0  944.0  945.0  967.0  -0.0  992.0  has_bd  \n",
       "eu_bd_0     0.000000    0.0    0.0    0.0    0.0   0.0    0.0    True  \n",
       "eu_bd_1     0.000000    0.0    0.0    0.0    0.0   0.0    0.0    True  \n",
       "eu_bd_2     0.000007    0.0    0.0    0.0    0.0   0.0    0.0    True  \n",
       "...              ...    ...    ...    ...    ...   ...    ...     ...  \n",
       "ba_co_1197  0.000000    0.0    0.0    0.0    0.0   0.0    0.0   False  \n",
       "ba_co_1198  0.000000    0.0    0.0    0.0    0.0   0.0    0.0   False  \n",
       "ba_co_1199  0.000000    0.0    0.0    0.0    0.0   0.0    0.0   False  \n",
       "\n",
       "[25200 rows x 955 columns]"
      ]
     },
     "execution_count": 42,
     "metadata": {},
     "output_type": "execute_result"
    }
   ],
   "source": [
    "df"
   ]
  },
  {
   "cell_type": "code",
   "execution_count": null,
   "id": "b9f3ab5a-4e07-45e8-ac08-8dde200a6a86",
   "metadata": {},
   "outputs": [],
   "source": []
  }
 ],
 "metadata": {
  "kernelspec": {
   "display_name": ".eda-jeff-data",
   "language": "python",
   "name": ".eda-jeff-data"
  },
  "language_info": {
   "codemirror_mode": {
    "name": "ipython",
    "version": 3
   },
   "file_extension": ".py",
   "mimetype": "text/x-python",
   "name": "python",
   "nbconvert_exporter": "python",
   "pygments_lexer": "ipython3",
   "version": "3.8.10"
  }
 },
 "nbformat": 4,
 "nbformat_minor": 5
}

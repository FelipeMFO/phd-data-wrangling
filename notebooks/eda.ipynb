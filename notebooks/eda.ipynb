{
 "cells": [
  {
   "cell_type": "markdown",
   "id": "ab9eb998-83a8-484c-9fd6-1d24c7af2d74",
   "metadata": {},
   "source": [
    "**Analysis owner**: Felipe Matheus <br>\n",
    "**Date**: 12/10/2021 <br>\n",
    "**Related Links**:\n",
    "\n",
    "The objective of this notebook is to asses data from Jeff and create a DataFrame modeling the problem."
   ]
  },
  {
   "cell_type": "markdown",
   "id": "d91144a5-e74b-4c9d-963d-106ab5b57f5c",
   "metadata": {},
   "source": [
    "# Setup"
   ]
  },
  {
   "cell_type": "markdown",
   "id": "cdca6fb4-0cb3-42ba-a3d3-58371b33b588",
   "metadata": {
    "jp-MarkdownHeadingCollapsed": true,
    "tags": []
   },
   "source": [
    "Libs"
   ]
  },
  {
   "cell_type": "code",
   "execution_count": 1,
   "id": "2def2dab-1fc7-42c9-869f-6081c5e62411",
   "metadata": {},
   "outputs": [],
   "source": [
    "import os\n",
    "import sys\n",
    "import json\n",
    "import pandas as pd\n",
    "import numpy as np\n",
    "from astropy.io import fits\n",
    "import matplotlib.pyplot as plt\n",
    "#import warnings\n",
    "\n",
    "%load_ext autoreload\n",
    "%autoreload 2"
   ]
  },
  {
   "cell_type": "markdown",
   "id": "6fc2817f-285d-4369-90d7-ac3f7760b7d0",
   "metadata": {
    "tags": []
   },
   "source": [
    "Modules"
   ]
  },
  {
   "cell_type": "code",
   "execution_count": 2,
   "id": "744f9e4a-8810-41ce-b37e-073fde0564d5",
   "metadata": {},
   "outputs": [],
   "source": [
    "module_path = os.path.abspath(os.path.join('..'))\n",
    "if module_path not in sys.path:\n",
    "    sys.path.append(module_path)\n",
    "\n",
    "from src.DataLoader import DataLoader\n",
    "from src.processing.Processing import Processing\n",
    "from src.utils import read_files"
   ]
  },
  {
   "cell_type": "markdown",
   "id": "ae1d5ee0-03cd-41de-b361-84a1da75099a",
   "metadata": {
    "tags": []
   },
   "source": [
    "Variables"
   ]
  },
  {
   "cell_type": "code",
   "execution_count": 3,
   "id": "94255eee-3acd-4c4c-bae1-4be2072c0931",
   "metadata": {},
   "outputs": [],
   "source": [
    "pd.options.display.max_rows = 6\n",
    "# warnings.filterwarnings(\"ignore\")\n",
    "with open('../config/variables.json') as json_file:\n",
    "    var = json.load(json_file)\n",
    "RAW_DATA = var.get('RAW_DATA')\n",
    "TRAIN_FOLDER = var.get('TRAIN_FOLDER')\n",
    "TEST_FOLDER = var.get('TEST_FOLDER')"
   ]
  },
  {
   "cell_type": "markdown",
   "id": "7753f956-8a1f-49c5-a50f-2b51c26804bb",
   "metadata": {},
   "source": [
    "Objects"
   ]
  },
  {
   "cell_type": "code",
   "execution_count": 4,
   "id": "d28ef052-66a6-46b7-91c2-d33e2eb36aa2",
   "metadata": {},
   "outputs": [],
   "source": [
    "load = DataLoader(RAW_DATA)\n",
    "processing = Processing()"
   ]
  },
  {
   "cell_type": "markdown",
   "id": "6821ad58-5e90-40ac-83a7-8bb0275fd02e",
   "metadata": {},
   "source": [
    "# Loading files"
   ]
  },
  {
   "cell_type": "code",
   "execution_count": 34,
   "id": "de0b9347-a081-425f-977b-1cf22937d888",
   "metadata": {
    "tags": []
   },
   "outputs": [
    {
     "ename": "KeyboardInterrupt",
     "evalue": "",
     "output_type": "error",
     "traceback": [
      "\u001b[0;31m---------------------------------------------------------------------------\u001b[0m",
      "\u001b[0;31mKeyboardInterrupt\u001b[0m                         Traceback (most recent call last)",
      "\u001b[0;32m/tmp/ipykernel_219530/3998871000.py\u001b[0m in \u001b[0;36m<module>\u001b[0;34m\u001b[0m\n\u001b[1;32m      1\u001b[0m \u001b[0mfits\u001b[0m \u001b[0;34m=\u001b[0m \u001b[0mload\u001b[0m\u001b[0;34m.\u001b[0m\u001b[0mload_fits\u001b[0m\u001b[0;34m(\u001b[0m\u001b[0mread_files\u001b[0m\u001b[0;34m(\u001b[0m\u001b[0mRAW_DATA\u001b[0m\u001b[0;34m)\u001b[0m\u001b[0;34m)\u001b[0m\u001b[0;34m\u001b[0m\u001b[0;34m\u001b[0m\u001b[0m\n\u001b[0;32m----> 2\u001b[0;31m \u001b[0mdfs_dict\u001b[0m \u001b[0;34m=\u001b[0m \u001b[0mprocessing\u001b[0m\u001b[0;34m.\u001b[0m\u001b[0mget_tabdata_dfs_dict\u001b[0m\u001b[0;34m(\u001b[0m\u001b[0mfits\u001b[0m\u001b[0;34m)\u001b[0m\u001b[0;34m\u001b[0m\u001b[0;34m\u001b[0m\u001b[0m\n\u001b[0m",
      "\u001b[0;32m~/CEA/jeff-project/data-scripts/src/processing/Processing.py\u001b[0m in \u001b[0;36mget_tabdata_dfs_dict\u001b[0;34m(self, fits_dict, only_mult_1)\u001b[0m\n\u001b[1;32m     40\u001b[0m         \u001b[0mans\u001b[0m \u001b[0;34m=\u001b[0m \u001b[0;34m{\u001b[0m\u001b[0;34m}\u001b[0m\u001b[0;34m\u001b[0m\u001b[0;34m\u001b[0m\u001b[0m\n\u001b[1;32m     41\u001b[0m         \u001b[0;32mfor\u001b[0m \u001b[0mkey\u001b[0m \u001b[0;32min\u001b[0m \u001b[0mfits_dict\u001b[0m\u001b[0;34m.\u001b[0m\u001b[0mkeys\u001b[0m\u001b[0;34m(\u001b[0m\u001b[0;34m)\u001b[0m\u001b[0;34m:\u001b[0m\u001b[0;34m\u001b[0m\u001b[0;34m\u001b[0m\u001b[0m\n\u001b[0;32m---> 42\u001b[0;31m             \u001b[0mdf_temp\u001b[0m \u001b[0;34m=\u001b[0m \u001b[0mpd\u001b[0m\u001b[0;34m.\u001b[0m\u001b[0mDataFrame\u001b[0m\u001b[0;34m(\u001b[0m\u001b[0mself\u001b[0m\u001b[0;34m.\u001b[0m\u001b[0mget_objects\u001b[0m\u001b[0;34m(\u001b[0m\u001b[0mfits_dict\u001b[0m\u001b[0;34m[\u001b[0m\u001b[0mkey\u001b[0m\u001b[0;34m]\u001b[0m\u001b[0;34m[\u001b[0m\u001b[0;34m'tabdata'\u001b[0m\u001b[0;34m]\u001b[0m\u001b[0;34m)\u001b[0m\u001b[0;34m)\u001b[0m\u001b[0;34m\u001b[0m\u001b[0;34m\u001b[0m\u001b[0m\n\u001b[0m\u001b[1;32m     43\u001b[0m             \u001b[0;32mif\u001b[0m \u001b[0monly_mult_1\u001b[0m\u001b[0;34m:\u001b[0m \u001b[0mdf_temp\u001b[0m\u001b[0;34m.\u001b[0m\u001b[0mdrop\u001b[0m\u001b[0;34m(\u001b[0m\u001b[0mdf_temp\u001b[0m\u001b[0;34m[\u001b[0m\u001b[0mdf_temp\u001b[0m\u001b[0;34m.\u001b[0m\u001b[0mmult\u001b[0m \u001b[0;34m!=\u001b[0m \u001b[0;36m1\u001b[0m\u001b[0;34m]\u001b[0m\u001b[0;34m.\u001b[0m\u001b[0mindex\u001b[0m\u001b[0;34m,\u001b[0m \u001b[0minplace\u001b[0m\u001b[0;34m=\u001b[0m\u001b[0;32mTrue\u001b[0m\u001b[0;34m)\u001b[0m\u001b[0;34m\u001b[0m\u001b[0;34m\u001b[0m\u001b[0m\n\u001b[1;32m     44\u001b[0m             \u001b[0mans\u001b[0m\u001b[0;34m[\u001b[0m\u001b[0mkey\u001b[0m\u001b[0;34m[\u001b[0m\u001b[0;36m0\u001b[0m\u001b[0;34m:\u001b[0m\u001b[0;36m2\u001b[0m\u001b[0;34m]\u001b[0m\u001b[0;34m]\u001b[0m \u001b[0;34m=\u001b[0m \u001b[0mdf_temp\u001b[0m\u001b[0;34m\u001b[0m\u001b[0;34m\u001b[0m\u001b[0m\n",
      "\u001b[0;32m~/.local/lib/python3.8/site-packages/pandas/core/frame.py\u001b[0m in \u001b[0;36m__init__\u001b[0;34m(self, data, index, columns, dtype, copy)\u001b[0m\n\u001b[1;32m    612\u001b[0m         \u001b[0;32melif\u001b[0m \u001b[0misinstance\u001b[0m\u001b[0;34m(\u001b[0m\u001b[0mdata\u001b[0m\u001b[0;34m,\u001b[0m \u001b[0mdict\u001b[0m\u001b[0;34m)\u001b[0m\u001b[0;34m:\u001b[0m\u001b[0;34m\u001b[0m\u001b[0;34m\u001b[0m\u001b[0m\n\u001b[1;32m    613\u001b[0m             \u001b[0;31m# GH#38939 de facto copy defaults to False only in non-dict cases\u001b[0m\u001b[0;34m\u001b[0m\u001b[0;34m\u001b[0m\u001b[0;34m\u001b[0m\u001b[0m\n\u001b[0;32m--> 614\u001b[0;31m             \u001b[0mmgr\u001b[0m \u001b[0;34m=\u001b[0m \u001b[0mdict_to_mgr\u001b[0m\u001b[0;34m(\u001b[0m\u001b[0mdata\u001b[0m\u001b[0;34m,\u001b[0m \u001b[0mindex\u001b[0m\u001b[0;34m,\u001b[0m \u001b[0mcolumns\u001b[0m\u001b[0;34m,\u001b[0m \u001b[0mdtype\u001b[0m\u001b[0;34m=\u001b[0m\u001b[0mdtype\u001b[0m\u001b[0;34m,\u001b[0m \u001b[0mcopy\u001b[0m\u001b[0;34m=\u001b[0m\u001b[0mcopy\u001b[0m\u001b[0;34m,\u001b[0m \u001b[0mtyp\u001b[0m\u001b[0;34m=\u001b[0m\u001b[0mmanager\u001b[0m\u001b[0;34m)\u001b[0m\u001b[0;34m\u001b[0m\u001b[0;34m\u001b[0m\u001b[0m\n\u001b[0m\u001b[1;32m    615\u001b[0m         \u001b[0;32melif\u001b[0m \u001b[0misinstance\u001b[0m\u001b[0;34m(\u001b[0m\u001b[0mdata\u001b[0m\u001b[0;34m,\u001b[0m \u001b[0mma\u001b[0m\u001b[0;34m.\u001b[0m\u001b[0mMaskedArray\u001b[0m\u001b[0;34m)\u001b[0m\u001b[0;34m:\u001b[0m\u001b[0;34m\u001b[0m\u001b[0;34m\u001b[0m\u001b[0m\n\u001b[1;32m    616\u001b[0m             \u001b[0;32mimport\u001b[0m \u001b[0mnumpy\u001b[0m\u001b[0;34m.\u001b[0m\u001b[0mma\u001b[0m\u001b[0;34m.\u001b[0m\u001b[0mmrecords\u001b[0m \u001b[0;32mas\u001b[0m \u001b[0mmrecords\u001b[0m\u001b[0;34m\u001b[0m\u001b[0;34m\u001b[0m\u001b[0m\n",
      "\u001b[0;32m~/.local/lib/python3.8/site-packages/pandas/core/internals/construction.py\u001b[0m in \u001b[0;36mdict_to_mgr\u001b[0;34m(data, index, columns, dtype, typ, copy)\u001b[0m\n\u001b[1;32m    462\u001b[0m         \u001b[0;31m# TODO: can we get rid of the dt64tz special case above?\u001b[0m\u001b[0;34m\u001b[0m\u001b[0;34m\u001b[0m\u001b[0;34m\u001b[0m\u001b[0m\n\u001b[1;32m    463\u001b[0m \u001b[0;34m\u001b[0m\u001b[0m\n\u001b[0;32m--> 464\u001b[0;31m     return arrays_to_mgr(\n\u001b[0m\u001b[1;32m    465\u001b[0m         \u001b[0marrays\u001b[0m\u001b[0;34m,\u001b[0m \u001b[0mdata_names\u001b[0m\u001b[0;34m,\u001b[0m \u001b[0mindex\u001b[0m\u001b[0;34m,\u001b[0m \u001b[0mcolumns\u001b[0m\u001b[0;34m,\u001b[0m \u001b[0mdtype\u001b[0m\u001b[0;34m=\u001b[0m\u001b[0mdtype\u001b[0m\u001b[0;34m,\u001b[0m \u001b[0mtyp\u001b[0m\u001b[0;34m=\u001b[0m\u001b[0mtyp\u001b[0m\u001b[0;34m,\u001b[0m \u001b[0mconsolidate\u001b[0m\u001b[0;34m=\u001b[0m\u001b[0mcopy\u001b[0m\u001b[0;34m\u001b[0m\u001b[0;34m\u001b[0m\u001b[0m\n\u001b[1;32m    466\u001b[0m     )\n",
      "\u001b[0;32m~/.local/lib/python3.8/site-packages/pandas/core/internals/construction.py\u001b[0m in \u001b[0;36marrays_to_mgr\u001b[0;34m(arrays, arr_names, index, columns, dtype, verify_integrity, typ, consolidate)\u001b[0m\n\u001b[1;32m    133\u001b[0m \u001b[0;34m\u001b[0m\u001b[0m\n\u001b[1;32m    134\u001b[0m     \u001b[0;32mif\u001b[0m \u001b[0mtyp\u001b[0m \u001b[0;34m==\u001b[0m \u001b[0;34m\"block\"\u001b[0m\u001b[0;34m:\u001b[0m\u001b[0;34m\u001b[0m\u001b[0;34m\u001b[0m\u001b[0m\n\u001b[0;32m--> 135\u001b[0;31m         return create_block_manager_from_arrays(\n\u001b[0m\u001b[1;32m    136\u001b[0m             \u001b[0marrays\u001b[0m\u001b[0;34m,\u001b[0m \u001b[0marr_names\u001b[0m\u001b[0;34m,\u001b[0m \u001b[0maxes\u001b[0m\u001b[0;34m,\u001b[0m \u001b[0mconsolidate\u001b[0m\u001b[0;34m=\u001b[0m\u001b[0mconsolidate\u001b[0m\u001b[0;34m\u001b[0m\u001b[0;34m\u001b[0m\u001b[0m\n\u001b[1;32m    137\u001b[0m         )\n",
      "\u001b[0;32m~/.local/lib/python3.8/site-packages/pandas/core/internals/managers.py\u001b[0m in \u001b[0;36mcreate_block_manager_from_arrays\u001b[0;34m(arrays, names, axes, consolidate)\u001b[0m\n\u001b[1;32m   1771\u001b[0m \u001b[0;34m\u001b[0m\u001b[0m\n\u001b[1;32m   1772\u001b[0m     \u001b[0;32mtry\u001b[0m\u001b[0;34m:\u001b[0m\u001b[0;34m\u001b[0m\u001b[0;34m\u001b[0m\u001b[0m\n\u001b[0;32m-> 1773\u001b[0;31m         \u001b[0mblocks\u001b[0m \u001b[0;34m=\u001b[0m \u001b[0m_form_blocks\u001b[0m\u001b[0;34m(\u001b[0m\u001b[0marrays\u001b[0m\u001b[0;34m,\u001b[0m \u001b[0mnames\u001b[0m\u001b[0;34m,\u001b[0m \u001b[0maxes\u001b[0m\u001b[0;34m,\u001b[0m \u001b[0mconsolidate\u001b[0m\u001b[0;34m)\u001b[0m\u001b[0;34m\u001b[0m\u001b[0;34m\u001b[0m\u001b[0m\n\u001b[0m\u001b[1;32m   1774\u001b[0m         \u001b[0mmgr\u001b[0m \u001b[0;34m=\u001b[0m \u001b[0mBlockManager\u001b[0m\u001b[0;34m(\u001b[0m\u001b[0mblocks\u001b[0m\u001b[0;34m,\u001b[0m \u001b[0maxes\u001b[0m\u001b[0;34m)\u001b[0m\u001b[0;34m\u001b[0m\u001b[0;34m\u001b[0m\u001b[0m\n\u001b[1;32m   1775\u001b[0m     \u001b[0;32mexcept\u001b[0m \u001b[0mValueError\u001b[0m \u001b[0;32mas\u001b[0m \u001b[0me\u001b[0m\u001b[0;34m:\u001b[0m\u001b[0;34m\u001b[0m\u001b[0;34m\u001b[0m\u001b[0m\n",
      "\u001b[0;32m~/.local/lib/python3.8/site-packages/pandas/core/internals/managers.py\u001b[0m in \u001b[0;36m_form_blocks\u001b[0;34m(arrays, names, axes, consolidate)\u001b[0m\n\u001b[1;32m   1836\u001b[0m     \u001b[0mblocks\u001b[0m\u001b[0;34m:\u001b[0m \u001b[0mlist\u001b[0m\u001b[0;34m[\u001b[0m\u001b[0mBlock\u001b[0m\u001b[0;34m]\u001b[0m \u001b[0;34m=\u001b[0m \u001b[0;34m[\u001b[0m\u001b[0;34m]\u001b[0m\u001b[0;34m\u001b[0m\u001b[0;34m\u001b[0m\u001b[0m\n\u001b[1;32m   1837\u001b[0m     \u001b[0;32mif\u001b[0m \u001b[0mlen\u001b[0m\u001b[0;34m(\u001b[0m\u001b[0mitems_dict\u001b[0m\u001b[0;34m[\u001b[0m\u001b[0;34m\"NumericBlock\"\u001b[0m\u001b[0;34m]\u001b[0m\u001b[0;34m)\u001b[0m\u001b[0;34m:\u001b[0m\u001b[0;34m\u001b[0m\u001b[0;34m\u001b[0m\u001b[0m\n\u001b[0;32m-> 1838\u001b[0;31m         numeric_blocks = _multi_blockify(\n\u001b[0m\u001b[1;32m   1839\u001b[0m             \u001b[0mitems_dict\u001b[0m\u001b[0;34m[\u001b[0m\u001b[0;34m\"NumericBlock\"\u001b[0m\u001b[0;34m]\u001b[0m\u001b[0;34m,\u001b[0m \u001b[0mconsolidate\u001b[0m\u001b[0;34m=\u001b[0m\u001b[0mconsolidate\u001b[0m\u001b[0;34m\u001b[0m\u001b[0;34m\u001b[0m\u001b[0m\n\u001b[1;32m   1840\u001b[0m         )\n",
      "\u001b[0;32m~/.local/lib/python3.8/site-packages/pandas/core/internals/managers.py\u001b[0m in \u001b[0;36m_multi_blockify\u001b[0;34m(tuples, dtype, consolidate)\u001b[0m\n\u001b[1;32m   1926\u001b[0m         \u001b[0;31m# \"Union[ExtensionDtype, str, dtype[Any], Type[str], Type[float], Type[int],\u001b[0m\u001b[0;34m\u001b[0m\u001b[0;34m\u001b[0m\u001b[0;34m\u001b[0m\u001b[0m\n\u001b[1;32m   1927\u001b[0m         \u001b[0;31m# Type[complex], Type[bool], Type[object], None]\"; expected \"dtype[Any]\"\u001b[0m\u001b[0;34m\u001b[0m\u001b[0;34m\u001b[0m\u001b[0;34m\u001b[0m\u001b[0m\n\u001b[0;32m-> 1928\u001b[0;31m         values, placement = _stack_arrays(\n\u001b[0m\u001b[1;32m   1929\u001b[0m             \u001b[0mlist\u001b[0m\u001b[0;34m(\u001b[0m\u001b[0mtup_block\u001b[0m\u001b[0;34m)\u001b[0m\u001b[0;34m,\u001b[0m \u001b[0mdtype\u001b[0m  \u001b[0;31m# type: ignore[arg-type]\u001b[0m\u001b[0;34m\u001b[0m\u001b[0;34m\u001b[0m\u001b[0m\n\u001b[1;32m   1930\u001b[0m         )\n",
      "\u001b[0;32m~/.local/lib/python3.8/site-packages/pandas/core/internals/managers.py\u001b[0m in \u001b[0;36m_stack_arrays\u001b[0;34m(tuples, dtype)\u001b[0m\n\u001b[1;32m   1957\u001b[0m     \u001b[0mstacked\u001b[0m \u001b[0;34m=\u001b[0m \u001b[0mnp\u001b[0m\u001b[0;34m.\u001b[0m\u001b[0mempty\u001b[0m\u001b[0;34m(\u001b[0m\u001b[0mshape\u001b[0m\u001b[0;34m,\u001b[0m \u001b[0mdtype\u001b[0m\u001b[0;34m=\u001b[0m\u001b[0mdtype\u001b[0m\u001b[0;34m)\u001b[0m\u001b[0;34m\u001b[0m\u001b[0;34m\u001b[0m\u001b[0m\n\u001b[1;32m   1958\u001b[0m     \u001b[0;32mfor\u001b[0m \u001b[0mi\u001b[0m\u001b[0;34m,\u001b[0m \u001b[0marr\u001b[0m \u001b[0;32min\u001b[0m \u001b[0menumerate\u001b[0m\u001b[0;34m(\u001b[0m\u001b[0marrays\u001b[0m\u001b[0;34m)\u001b[0m\u001b[0;34m:\u001b[0m\u001b[0;34m\u001b[0m\u001b[0;34m\u001b[0m\u001b[0m\n\u001b[0;32m-> 1959\u001b[0;31m         \u001b[0mstacked\u001b[0m\u001b[0;34m[\u001b[0m\u001b[0mi\u001b[0m\u001b[0;34m]\u001b[0m \u001b[0;34m=\u001b[0m \u001b[0marr\u001b[0m\u001b[0;34m\u001b[0m\u001b[0;34m\u001b[0m\u001b[0m\n\u001b[0m\u001b[1;32m   1960\u001b[0m \u001b[0;34m\u001b[0m\u001b[0m\n\u001b[1;32m   1961\u001b[0m     \u001b[0;32mreturn\u001b[0m \u001b[0mstacked\u001b[0m\u001b[0;34m,\u001b[0m \u001b[0mplacement\u001b[0m\u001b[0;34m\u001b[0m\u001b[0;34m\u001b[0m\u001b[0m\n",
      "\u001b[0;31mKeyboardInterrupt\u001b[0m: "
     ]
    }
   ],
   "source": [
    "fits = load.load_fits(read_files(RAW_DATA))\n",
    "dfs_dict = processing.get_tabdata_dfs_dict(fits)"
   ]
  },
  {
   "cell_type": "code",
   "execution_count": 11,
   "id": "e9f3c129-6cf0-452e-9888-a31572abe229",
   "metadata": {},
   "outputs": [
    {
     "data": {
      "text/html": [
       "<div>\n",
       "<style scoped>\n",
       "    .dataframe tbody tr th:only-of-type {\n",
       "        vertical-align: middle;\n",
       "    }\n",
       "\n",
       "    .dataframe tbody tr th {\n",
       "        vertical-align: top;\n",
       "    }\n",
       "\n",
       "    .dataframe thead th {\n",
       "        text-align: right;\n",
       "    }\n",
       "</style>\n",
       "<table border=\"1\" class=\"dataframe\">\n",
       "  <thead>\n",
       "    <tr style=\"text-align: right;\">\n",
       "      <th></th>\n",
       "      <th>event_num</th>\n",
       "      <th>mult</th>\n",
       "      <th>mult_i</th>\n",
       "      <th>time</th>\n",
       "      <th>pixel</th>\n",
       "      <th>x</th>\n",
       "      <th>y</th>\n",
       "      <th>energy</th>\n",
       "      <th>event_type</th>\n",
       "    </tr>\n",
       "  </thead>\n",
       "  <tbody>\n",
       "    <tr>\n",
       "      <th>0</th>\n",
       "      <td>0</td>\n",
       "      <td>1</td>\n",
       "      <td>0</td>\n",
       "      <td>0.000000</td>\n",
       "      <td>241</td>\n",
       "      <td>1</td>\n",
       "      <td>15</td>\n",
       "      <td>72.422764</td>\n",
       "      <td>1</td>\n",
       "    </tr>\n",
       "    <tr>\n",
       "      <th>1</th>\n",
       "      <td>1</td>\n",
       "      <td>1</td>\n",
       "      <td>0</td>\n",
       "      <td>0.214265</td>\n",
       "      <td>78</td>\n",
       "      <td>14</td>\n",
       "      <td>4</td>\n",
       "      <td>76.794589</td>\n",
       "      <td>1</td>\n",
       "    </tr>\n",
       "    <tr>\n",
       "      <th>2</th>\n",
       "      <td>2</td>\n",
       "      <td>1</td>\n",
       "      <td>0</td>\n",
       "      <td>0.257149</td>\n",
       "      <td>215</td>\n",
       "      <td>7</td>\n",
       "      <td>13</td>\n",
       "      <td>152.931080</td>\n",
       "      <td>1</td>\n",
       "    </tr>\n",
       "    <tr>\n",
       "      <th>...</th>\n",
       "      <td>...</td>\n",
       "      <td>...</td>\n",
       "      <td>...</td>\n",
       "      <td>...</td>\n",
       "      <td>...</td>\n",
       "      <td>...</td>\n",
       "      <td>...</td>\n",
       "      <td>...</td>\n",
       "      <td>...</td>\n",
       "    </tr>\n",
       "    <tr>\n",
       "      <th>1304413</th>\n",
       "      <td>-19513</td>\n",
       "      <td>3</td>\n",
       "      <td>0</td>\n",
       "      <td>61444.143172</td>\n",
       "      <td>77</td>\n",
       "      <td>13</td>\n",
       "      <td>4</td>\n",
       "      <td>22.683730</td>\n",
       "      <td>255</td>\n",
       "    </tr>\n",
       "    <tr>\n",
       "      <th>1304414</th>\n",
       "      <td>-19512</td>\n",
       "      <td>3</td>\n",
       "      <td>1</td>\n",
       "      <td>61444.143172</td>\n",
       "      <td>95</td>\n",
       "      <td>15</td>\n",
       "      <td>5</td>\n",
       "      <td>65.994951</td>\n",
       "      <td>255</td>\n",
       "    </tr>\n",
       "    <tr>\n",
       "      <th>1304415</th>\n",
       "      <td>-19511</td>\n",
       "      <td>3</td>\n",
       "      <td>2</td>\n",
       "      <td>61444.143172</td>\n",
       "      <td>111</td>\n",
       "      <td>15</td>\n",
       "      <td>6</td>\n",
       "      <td>24.178214</td>\n",
       "      <td>255</td>\n",
       "    </tr>\n",
       "  </tbody>\n",
       "</table>\n",
       "<p>1304416 rows × 9 columns</p>\n",
       "</div>"
      ],
      "text/plain": [
       "         event_num  mult  mult_i          time  pixel   x   y      energy  \\\n",
       "0                0     1       0      0.000000    241   1  15   72.422764   \n",
       "1                1     1       0      0.214265     78  14   4   76.794589   \n",
       "2                2     1       0      0.257149    215   7  13  152.931080   \n",
       "...            ...   ...     ...           ...    ...  ..  ..         ...   \n",
       "1304413     -19513     3       0  61444.143172     77  13   4   22.683730   \n",
       "1304414     -19512     3       1  61444.143172     95  15   5   65.994951   \n",
       "1304415     -19511     3       2  61444.143172    111  15   6   24.178214   \n",
       "\n",
       "         event_type  \n",
       "0                 1  \n",
       "1                 1  \n",
       "2                 1  \n",
       "...             ...  \n",
       "1304413         255  \n",
       "1304414         255  \n",
       "1304415         255  \n",
       "\n",
       "[1304416 rows x 9 columns]"
      ]
     },
     "execution_count": 11,
     "metadata": {},
     "output_type": "execute_result"
    }
   ],
   "source": [
    "dfs_dict['sp']"
   ]
  },
  {
   "cell_type": "code",
   "execution_count": 77,
   "id": "ab20277a-10bb-40e4-abf0-62244f6ed92f",
   "metadata": {},
   "outputs": [],
   "source": [
    "spectre_header = processing.get_objects(fits['spectre_reveil_calibrated']['tabdata'])\n"
   ]
  },
  {
   "cell_type": "code",
   "execution_count": 85,
   "id": "afd8289d-bb22-40a9-ad1e-85b29920e0d6",
   "metadata": {},
   "outputs": [
    {
     "name": "stderr",
     "output_type": "stream",
     "text": [
      "/tmp/ipykernel_97971/2660489628.py:1: SettingWithCopyWarning: \n",
      "A value is trying to be set on a copy of a slice from a DataFrame.\n",
      "Try using .loc[row_indexer,col_indexer] = value instead\n",
      "\n",
      "See the caveats in the documentation: https://pandas.pydata.org/pandas-docs/stable/user_guide/indexing.html#returning-a-view-versus-a-copy\n",
      "  df_sr[\"label\"] = \"SR\"\n"
     ]
    }
   ],
   "source": [
    "df_sr[\"label\"] = \"SR\""
   ]
  },
  {
   "cell_type": "code",
   "execution_count": 87,
   "id": "2ef6013f-f681-422c-981c-01ee61a3dec2",
   "metadata": {},
   "outputs": [
    {
     "data": {
      "text/html": [
       "<div>\n",
       "<style scoped>\n",
       "    .dataframe tbody tr th:only-of-type {\n",
       "        vertical-align: middle;\n",
       "    }\n",
       "\n",
       "    .dataframe tbody tr th {\n",
       "        vertical-align: top;\n",
       "    }\n",
       "\n",
       "    .dataframe thead th {\n",
       "        text-align: right;\n",
       "    }\n",
       "</style>\n",
       "<table border=\"1\" class=\"dataframe\">\n",
       "  <thead>\n",
       "    <tr style=\"text-align: right;\">\n",
       "      <th></th>\n",
       "      <th>event_num</th>\n",
       "      <th>mult</th>\n",
       "      <th>mult_i</th>\n",
       "      <th>time</th>\n",
       "      <th>pixel</th>\n",
       "      <th>x</th>\n",
       "      <th>y</th>\n",
       "      <th>energy</th>\n",
       "      <th>event_type</th>\n",
       "      <th>label</th>\n",
       "    </tr>\n",
       "  </thead>\n",
       "  <tbody>\n",
       "    <tr>\n",
       "      <th>0</th>\n",
       "      <td>0</td>\n",
       "      <td>1</td>\n",
       "      <td>0</td>\n",
       "      <td>0.000000</td>\n",
       "      <td>241</td>\n",
       "      <td>1</td>\n",
       "      <td>15</td>\n",
       "      <td>72.422764</td>\n",
       "      <td>1</td>\n",
       "      <td>SR</td>\n",
       "    </tr>\n",
       "    <tr>\n",
       "      <th>1</th>\n",
       "      <td>1</td>\n",
       "      <td>1</td>\n",
       "      <td>0</td>\n",
       "      <td>0.214265</td>\n",
       "      <td>78</td>\n",
       "      <td>14</td>\n",
       "      <td>4</td>\n",
       "      <td>76.794589</td>\n",
       "      <td>1</td>\n",
       "      <td>SR</td>\n",
       "    </tr>\n",
       "    <tr>\n",
       "      <th>2</th>\n",
       "      <td>2</td>\n",
       "      <td>1</td>\n",
       "      <td>0</td>\n",
       "      <td>0.257149</td>\n",
       "      <td>215</td>\n",
       "      <td>7</td>\n",
       "      <td>13</td>\n",
       "      <td>152.931080</td>\n",
       "      <td>1</td>\n",
       "      <td>SR</td>\n",
       "    </tr>\n",
       "    <tr>\n",
       "      <th>...</th>\n",
       "      <td>...</td>\n",
       "      <td>...</td>\n",
       "      <td>...</td>\n",
       "      <td>...</td>\n",
       "      <td>...</td>\n",
       "      <td>...</td>\n",
       "      <td>...</td>\n",
       "      <td>...</td>\n",
       "      <td>...</td>\n",
       "      <td>...</td>\n",
       "    </tr>\n",
       "    <tr>\n",
       "      <th>1304410</th>\n",
       "      <td>-19516</td>\n",
       "      <td>1</td>\n",
       "      <td>0</td>\n",
       "      <td>61444.001697</td>\n",
       "      <td>173</td>\n",
       "      <td>13</td>\n",
       "      <td>10</td>\n",
       "      <td>59.786638</td>\n",
       "      <td>1</td>\n",
       "      <td>SR</td>\n",
       "    </tr>\n",
       "    <tr>\n",
       "      <th>1304411</th>\n",
       "      <td>-19515</td>\n",
       "      <td>1</td>\n",
       "      <td>0</td>\n",
       "      <td>61444.097826</td>\n",
       "      <td>193</td>\n",
       "      <td>1</td>\n",
       "      <td>12</td>\n",
       "      <td>68.281757</td>\n",
       "      <td>1</td>\n",
       "      <td>SR</td>\n",
       "    </tr>\n",
       "    <tr>\n",
       "      <th>1304412</th>\n",
       "      <td>-19514</td>\n",
       "      <td>1</td>\n",
       "      <td>0</td>\n",
       "      <td>61444.112442</td>\n",
       "      <td>34</td>\n",
       "      <td>2</td>\n",
       "      <td>2</td>\n",
       "      <td>165.503362</td>\n",
       "      <td>1</td>\n",
       "      <td>SR</td>\n",
       "    </tr>\n",
       "  </tbody>\n",
       "</table>\n",
       "<p>658548 rows × 10 columns</p>\n",
       "</div>"
      ],
      "text/plain": [
       "         event_num  mult  mult_i          time  pixel   x   y      energy  \\\n",
       "0                0     1       0      0.000000    241   1  15   72.422764   \n",
       "1                1     1       0      0.214265     78  14   4   76.794589   \n",
       "2                2     1       0      0.257149    215   7  13  152.931080   \n",
       "...            ...   ...     ...           ...    ...  ..  ..         ...   \n",
       "1304410     -19516     1       0  61444.001697    173  13  10   59.786638   \n",
       "1304411     -19515     1       0  61444.097826    193   1  12   68.281757   \n",
       "1304412     -19514     1       0  61444.112442     34   2   2  165.503362   \n",
       "\n",
       "         event_type label  \n",
       "0                 1    SR  \n",
       "1                 1    SR  \n",
       "2                 1    SR  \n",
       "...             ...   ...  \n",
       "1304410           1    SR  \n",
       "1304411           1    SR  \n",
       "1304412           1    SR  \n",
       "\n",
       "[658548 rows x 10 columns]"
      ]
     },
     "execution_count": 87,
     "metadata": {},
     "output_type": "execute_result"
    }
   ],
   "source": [
    "df_sr"
   ]
  },
  {
   "cell_type": "code",
   "execution_count": 68,
   "id": "24e014fb-d403-4f08-a102-afc79adcadbf",
   "metadata": {},
   "outputs": [
    {
     "data": {
      "text/plain": [
       "astropy.io.fits.header.Header"
      ]
     },
     "execution_count": 68,
     "metadata": {},
     "output_type": "execute_result"
    }
   ],
   "source": [
    "type(fitsa['spectre_reveil_calibrated']['header'])"
   ]
  },
  {
   "cell_type": "markdown",
   "id": "e64bb534-b9db-4ed7-8437-de056339a933",
   "metadata": {},
   "source": [
    "o file open é somente isso: \n",
    "[<astropy.io.fits.hdu.image.PrimaryHDU object at 0x7f77318d71c0>, <astropy.io.fits.hdu.table.BinTableHDU object at 0x7f77316f23a0>]"
   ]
  },
  {
   "cell_type": "code",
   "execution_count": 30,
   "id": "f7b839eb-2ee4-479a-bf1d-85e5666588e4",
   "metadata": {},
   "outputs": [],
   "source": [
    "a = [1,2]"
   ]
  },
  {
   "cell_type": "code",
   "execution_count": 26,
   "id": "2fcd59e2-b713-4c27-be36-5304c3ed2abd",
   "metadata": {},
   "outputs": [],
   "source": [
    "a.remove(1)"
   ]
  },
  {
   "cell_type": "code",
   "execution_count": 27,
   "id": "75229917-946e-45f8-be8a-0aade8e466bc",
   "metadata": {},
   "outputs": [
    {
     "data": {
      "text/plain": [
       "[2]"
      ]
     },
     "execution_count": 27,
     "metadata": {},
     "output_type": "execute_result"
    }
   ],
   "source": [
    "a"
   ]
  },
  {
   "cell_type": "code",
   "execution_count": 32,
   "id": "fb3a662f-c657-49da-b762-687547a19696",
   "metadata": {},
   "outputs": [
    {
     "ename": "SyntaxError",
     "evalue": "invalid syntax (1970168451.py, line 1)",
     "output_type": "error",
     "traceback": [
      "\u001b[0;36m  File \u001b[0;32m\"/tmp/ipykernel_219530/1970168451.py\"\u001b[0;36m, line \u001b[0;32m1\u001b[0m\n\u001b[0;31m    a.remove(1) if True\u001b[0m\n\u001b[0m                       ^\u001b[0m\n\u001b[0;31mSyntaxError\u001b[0m\u001b[0;31m:\u001b[0m invalid syntax\n"
     ]
    }
   ],
   "source": [
    "a.remove(1) if True"
   ]
  },
  {
   "cell_type": "code",
   "execution_count": 33,
   "id": "eefe3b32-fac3-4956-a0f8-ced4bf7d80c2",
   "metadata": {},
   "outputs": [],
   "source": [
    "if True : a.remove(1)"
   ]
  },
  {
   "cell_type": "code",
   "execution_count": null,
   "id": "2da68db2-121f-4e04-9ea5-9d9e7f9af3ab",
   "metadata": {},
   "outputs": [],
   "source": [
    "# todos os arquivos são os dados reais, mas são pas prises pendant\n",
    "# la meme condition\n",
    "#Am -> Amerique\n",
    "# TP8 -> configuration electronique de 1 a 15\n",
    "# g0 -> outro parâmetro\n",
    "# BdF -> bruit de fundo. \n",
    "# A gente seleciona\n",
    "#reveil -> alarm\n"
   ]
  },
  {
   "cell_type": "code",
   "execution_count": 15,
   "id": "281cd2bb-0dfc-4cea-bb2b-32569c33098a",
   "metadata": {},
   "outputs": [
    {
     "data": {
      "text/plain": [
       "3"
      ]
     },
     "execution_count": 15,
     "metadata": {},
     "output_type": "execute_result"
    }
   ],
   "source": [
    "10//3"
   ]
  },
  {
   "cell_type": "code",
   "execution_count": 4,
   "id": "a1ef2528-c6a1-43e1-9a89-dc9211e6ef93",
   "metadata": {},
   "outputs": [
    {
     "data": {
      "text/plain": [
       "Text(0.5, 1.0, 'Spectre single events')"
      ]
     },
     "execution_count": 4,
     "metadata": {},
     "output_type": "execute_result"
    },
    {
     "data": {
      "image/png": "[encoded data removed]",
      "text/plain": [
       "<Figure size 432x288 with 1 Axes>"
      ]
     },
     "metadata": {
      "needs_background": "light"
     },
     "output_type": "display_data"
    }
   ],
   "source": [
    "name = data_folder + \"Am_proche_TP8_calibrated.fits\"\n",
    "    \n",
    "hdulist = fits.open(name)\n",
    "\n",
    "hdr = hdulist[1].header\n",
    "tabdata = hdulist[1].data\n",
    "    \n",
    "hdulist.close()\n",
    "\n",
    "event_num = tabdata.field(\"FRAME\") #Numéro de l'événement\n",
    "mult = tabdata.field(\"MULTIPLICITY\") #Multiplicité (nombre de pixels touchés par l'événement)\n",
    "mult_i = tabdata.field(\"MULT\") #Numéro dans la multiplicité\n",
    "time = tabdata.field(\"TIME\") #Date de l'événement\n",
    "pixel = tabdata.field(\"PIXEL\") #Numéro du pixel touché\n",
    "x = tabdata.field(\"X\") #Coordonnée X du pixel touché\n",
    "y = tabdata.field(\"Y\") #Coordonnée Y du pixel touché\n",
    "energy = tabdata.field(\"ENERGY\") #Energie mesurée\n",
    "event_type = tabdata.field(\"TYPE\") #Ne pas s'occuper de celui-là, la colonne existe mais ne renvoie rien de pertinent\n",
    "\n",
    "single = (mult == 1)\n",
    "\n",
    "single_energy = energy[single]\n",
    "\n",
    "spectre, bins = np.histogram(single_energy,range = (0,1000),bins = 2000)\n",
    "\n",
    "plt.plot(bins[:-1],spectre)\n",
    "plt.xlabel(\"Energy (keV)\")\n",
    "plt.ylabel(\"Counts\")\n",
    "plt.title(\"Spectre single events\")\n"
   ]
  },
  {
   "cell_type": "code",
   "execution_count": 6,
   "id": "5c61bdbb-088e-41fc-a521-ad129ac5fde7",
   "metadata": {},
   "outputs": [
    {
     "data": {
      "text/plain": [
       "Text(0.5, 1.0, 'Spectre single events')"
      ]
     },
     "execution_count": 6,
     "metadata": {},
     "output_type": "execute_result"
    },
    {
     "data": {
      "image/png": "[encoded data removed]",
      "text/plain": [
       "<Figure size 432x288 with 1 Axes>"
      ]
     },
     "metadata": {
      "needs_background": "light"
     },
     "output_type": "display_data"
    }
   ],
   "source": [
    "name = data_folder + \"Am_proche_TP8_calibrated.fits\"\n",
    "    \n",
    "hdulist = fits.open(name)\n",
    "\n",
    "hdr = hdulist[1].header\n",
    "tabdata = hdulist[1].data\n",
    "    \n",
    "hdulist.close()\n",
    "\n",
    "event_num = tabdata.field(\"FRAME\") #Numéro de l'événement\n",
    "mult = tabdata.field(\"MULTIPLICITY\") #Multiplicité (nombre de pixels touchés par l'événement)\n",
    "mult_i = tabdata.field(\"MULT\") #Numéro dans la multiplicité\n",
    "time = tabdata.field(\"TIME\") #Date de l'événement\n",
    "pixel = tabdata.field(\"PIXEL\") #Numéro du pixel touché\n",
    "x = tabdata.field(\"X\") #Coordonnée X du pixel touché\n",
    "y = tabdata.field(\"Y\") #Coordonnée Y du pixel touché\n",
    "energy = tabdata.field(\"ENERGY\") #Energie mesurée\n",
    "event_type = tabdata.field(\"TYPE\") #Ne pas s'occuper de celui-là, la colonne existe mais ne renvoie rien de pertinent\n",
    "\n",
    "single = (mult == 1)\n",
    "\n",
    "single_energy = energy[single]\n",
    "\n",
    "spectre, bins = np.histogram(single_energy,range = (0,100),bins = 2000)\n",
    "\n",
    "plt.plot(bins[:-1],spectre)\n",
    "plt.xlabel(\"Energy (keV)\")\n",
    "plt.ylabel(\"Counts\")\n",
    "plt.title(\"Spectre single events\")\n"
   ]
  },
  {
   "cell_type": "code",
   "execution_count": null,
   "id": "336eb40c-97ea-4b7a-bfe2-324d92e1dfa0",
   "metadata": {},
   "outputs": [],
   "source": [
    "on reste avec la multiplicite 1, e melanja com o americium e barium\n",
    "mistrurar os bagulhos e dai dizer quais que tem\n",
    "pega esse espectro bonitao, melanja com o dos radioativos \n",
    "\n",
    "faz uma coisa parecida com o hotel unico, mistura os espectros com uma porcentagem aleatoria\n",
    "identifica quais espectros eu to misturando, labeliza eles e depois bota pra treinar. Socalhe AutoMLl"
   ]
  },
  {
   "cell_type": "code",
   "execution_count": 7,
   "id": "2c60ee79-2f1e-4eab-8de0-c065e1e85f18",
   "metadata": {},
   "outputs": [
    {
     "data": {
      "text/plain": [
       "Text(0.5, 1.0, 'Spectre single events')"
      ]
     },
     "execution_count": 7,
     "metadata": {},
     "output_type": "execute_result"
    },
    {
     "data": {
      "image/png": "[encoded data removed]",
      "text/plain": [
       "<Figure size 432x288 with 1 Axes>"
      ]
     },
     "metadata": {
      "needs_background": "light"
     },
     "output_type": "display_data"
    }
   ],
   "source": [
    "name = data_folder + \"Am_proche_TP8_calibrated.fits\"\n",
    "    \n",
    "hdulist = fits.open(name)\n",
    "\n",
    "hdr = hdulist[1].header\n",
    "tabdata = hdulist[1].data\n",
    "    \n",
    "hdulist.close()\n",
    "\n",
    "event_num = tabdata.field(\"FRAME\") #Numéro de l'événement\n",
    "mult = tabdata.field(\"MULTIPLICITY\") #Multiplicité (nombre de pixels touchés par l'événement)\n",
    "mult_i = tabdata.field(\"MULT\") #Numéro dans la multiplicité\n",
    "time = tabdata.field(\"TIME\") #Date de l'événement\n",
    "pixel = tabdata.field(\"PIXEL\") #Numéro du pixel touché\n",
    "x = tabdata.field(\"X\") #Coordonnée X du pixel touché\n",
    "y = tabdata.field(\"Y\") #Coordonnée Y du pixel touché\n",
    "energy = tabdata.field(\"ENERGY\") #Energie mesurée\n",
    "event_type = tabdata.field(\"TYPE\") #Ne pas s'occuper de celui-là, la colonne existe mais ne renvoie rien de pertinent\n",
    "\n",
    "single = (mult == 1)\n",
    "\n",
    "single_energy = energy[single]\n",
    "\n",
    "spectre, bins = np.histogram(single_energy,range = (58,61),bins = 2000)\n",
    "\n",
    "plt.plot(bins[:-1],spectre)\n",
    "plt.xlabel(\"Energy (keV)\")\n",
    "plt.ylabel(\"Counts\")\n",
    "plt.title(\"Spectre single events\")\n"
   ]
  },
  {
   "cell_type": "code",
   "execution_count": 83,
   "id": "f2dbd39b-546b-4948-b2f4-a7af13330369",
   "metadata": {},
   "outputs": [
    {
     "data": {
      "text/plain": [
       "array([ 98,  50,  29, ..., 161,  11, 181], dtype=uint8)"
      ]
     },
     "execution_count": 83,
     "metadata": {},
     "output_type": "execute_result"
    }
   ],
   "source": [
    "pixel"
   ]
  },
  {
   "cell_type": "code",
   "execution_count": 84,
   "id": "956db359-9c59-4eda-99c8-84222e05737c",
   "metadata": {},
   "outputs": [
    {
     "data": {
      "text/plain": [
       "numpy.ndarray"
      ]
     },
     "execution_count": 84,
     "metadata": {},
     "output_type": "execute_result"
    }
   ],
   "source": [
    "type(pixel)"
   ]
  },
  {
   "cell_type": "code",
   "execution_count": null,
   "id": "4e0b32a3-ffe7-43f4-a405-b0fb29cc9487",
   "metadata": {},
   "outputs": [],
   "source": []
  },
  {
   "cell_type": "code",
   "execution_count": 64,
   "id": "089ad0c6-d577-4009-a46a-d4f6f6a5e173",
   "metadata": {},
   "outputs": [],
   "source": [
    "hdulist = fits.open(name)\n",
    "\n",
    "hdr = hdulist[1].header\n",
    "tabdata = hdulist[1].data"
   ]
  },
  {
   "cell_type": "code",
   "execution_count": 70,
   "id": "186890e9-f8cb-4644-89c6-a1f4aaa87e43",
   "metadata": {},
   "outputs": [
    {
     "data": {
      "text/plain": [
       "array([    0,     1,     2, ..., 16668, 16669, 16670], dtype=int16)"
      ]
     },
     "execution_count": 70,
     "metadata": {},
     "output_type": "execute_result"
    }
   ],
   "source": [
    "tabdata.field(\"FRAME\")"
   ]
  },
  {
   "cell_type": "code",
   "execution_count": 74,
   "id": "376a8956-103f-4eb3-a5d0-dc983e23c943",
   "metadata": {},
   "outputs": [
    {
     "data": {
      "text/plain": [
       "FITS_rec([(    0, 1, 0, 0.00000000e+00,  98,  2,  6,   1, 58.56808924),\n",
       "          (    1, 1, 0, 5.86748123e-04,  50,  2,  3,   1, 59.71696083),\n",
       "          (    2, 1, 0, 8.69750977e-04,  29, 13,  1,   1, 17.71015428),\n",
       "          ...,\n",
       "          (16668, 1, 0, 1.79941160e+03, 161,  1, 10,   1, 36.1971228 ),\n",
       "          (16669, 2, 0, 1.79941168e+03,  11, 11,  0, 255, 57.3391494 ),\n",
       "          (16670, 2, 1, 1.79941168e+03, 181,  5, 11, 255, 50.0167746 )],\n",
       "         dtype=(numpy.record, [('FRAME', '>i2'), ('MULTIPLICITY', 'u1'), ('MULT', 'u1'), ('TIME', '>f8'), ('PIXEL', 'u1'), ('X', '>i2'), ('Y', '>i2'), ('TYPE', '>i2'), ('ENERGY', '>f8')]))"
      ]
     },
     "execution_count": 74,
     "metadata": {},
     "output_type": "execute_result"
    }
   ],
   "source": [
    "tabdata"
   ]
  },
  {
   "cell_type": "code",
   "execution_count": 88,
   "id": "6e22a72f-3252-4e16-9b4d-14acfbee9d5e",
   "metadata": {},
   "outputs": [
    {
     "data": {
      "text/plain": [
       "astropy.io.fits.fitsrec.FITS_rec"
      ]
     },
     "execution_count": 88,
     "metadata": {},
     "output_type": "execute_result"
    }
   ],
   "source": [
    "type(tabdata)"
   ]
  },
  {
   "cell_type": "code",
   "execution_count": 79,
   "id": "ae407965-22bc-44fd-83f3-b8c3fd7baaad",
   "metadata": {},
   "outputs": [
    {
     "data": {
      "text/plain": [
       "14642057"
      ]
     },
     "execution_count": 79,
     "metadata": {},
     "output_type": "execute_result"
    }
   ],
   "source": [
    "len(energy)"
   ]
  },
  {
   "cell_type": "code",
   "execution_count": 80,
   "id": "8dd328c5-630d-4aee-8925-2f0cdbce7356",
   "metadata": {},
   "outputs": [
    {
     "data": {
      "text/plain": [
       "9220770"
      ]
     },
     "execution_count": 80,
     "metadata": {},
     "output_type": "execute_result"
    }
   ],
   "source": [
    "len(energy[single])"
   ]
  },
  {
   "cell_type": "code",
   "execution_count": null,
   "id": "34ee7851-47a0-42ad-8f38-78f1656cd0f4",
   "metadata": {},
   "outputs": [
    {
     "data": {
      "text/plain": [
       "numpy.ndarray"
      ]
     },
     "execution_count": 81,
     "metadata": {},
     "output_type": "execute_result"
    }
   ],
   "source": [
    "type(energy"
   ]
  },
  {
   "cell_type": "code",
   "execution_count": 85,
   "id": "111bf97b-0a81-417c-adc6-afb97c27ebd8",
   "metadata": {},
   "outputs": [
    {
     "data": {
      "text/plain": [
       "FITS_rec([(    0, 1, 0, 0.00000000e+00,  98,  2,  6,   1, 58.56808924),\n",
       "          (    1, 1, 0, 5.86748123e-04,  50,  2,  3,   1, 59.71696083),\n",
       "          (    2, 1, 0, 8.69750977e-04,  29, 13,  1,   1, 17.71015428),\n",
       "          ...,\n",
       "          (16668, 1, 0, 1.79941160e+03, 161,  1, 10,   1, 36.1971228 ),\n",
       "          (16669, 2, 0, 1.79941168e+03,  11, 11,  0, 255, 57.3391494 ),\n",
       "          (16670, 2, 1, 1.79941168e+03, 181,  5, 11, 255, 50.0167746 )],\n",
       "         dtype=(numpy.record, [('FRAME', '>i2'), ('MULTIPLICITY', 'u1'), ('MULT', 'u1'), ('TIME', '>f8'), ('PIXEL', 'u1'), ('X', '>i2'), ('Y', '>i2'), ('TYPE', '>i2'), ('ENERGY', '>f8')]))"
      ]
     },
     "execution_count": 85,
     "metadata": {},
     "output_type": "execute_result"
    }
   ],
   "source": [
    "tabdata"
   ]
  },
  {
   "cell_type": "code",
   "execution_count": 86,
   "id": "78ae5dab-c973-47f9-a921-7381bc4fcc52",
   "metadata": {},
   "outputs": [
    {
     "data": {
      "text/plain": [
       "astropy.io.fits.fitsrec.FITS_rec"
      ]
     },
     "execution_count": 86,
     "metadata": {},
     "output_type": "execute_result"
    }
   ],
   "source": [
    "type(tabdata)"
   ]
  },
  {
   "cell_type": "code",
   "execution_count": null,
   "id": "abf73dfe-cc9c-428f-b703-173ff8d4c95f",
   "metadata": {},
   "outputs": [],
   "source": [
    "        # for file in files:\n",
    "        #     hdulist = fits.open(self.folder+file)\n",
    "        #     ans[f\"{file.lower()}_header\"]= hdulist[1].header\n",
    "        #     ans[f\"{file.lower()}_tabdata\"]= hdulist[1].data\n",
    "        #     hdulist.close()\n",
    "\n",
    "        # return ans\n"
   ]
  }
 ],
 "metadata": {
  "kernelspec": {
   "display_name": ".eda_jeff_data",
   "language": "python",
   "name": ".eda_jeff_data"
  },
  "language_info": {
   "codemirror_mode": {
    "name": "ipython",
    "version": 3
   },
   "file_extension": ".py",
   "mimetype": "text/x-python",
   "name": "python",
   "nbconvert_exporter": "python",
   "pygments_lexer": "ipython3",
   "version": "3.8.10"
  }
 },
 "nbformat": 4,
 "nbformat_minor": 5
}
